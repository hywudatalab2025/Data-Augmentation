{
  "nbformat": 4,
  "nbformat_minor": 0,
  "metadata": {
    "colab": {
      "provenance": []
    },
    "kernelspec": {
      "name": "python3",
      "display_name": "Python 3"
    },
    "language_info": {
      "name": "python"
    }
  },
  "cells": [
    {
      "cell_type": "code",
      "source": [
        "from google.colab import drive\n",
        "import os\n",
        "\n",
        "# Google Drive 마운트\n",
        "drive.mount('/content/drive')"
      ],
      "metadata": {
        "colab": {
          "base_uri": "https://localhost:8080/"
        },
        "id": "dBcyH50PwPWY",
        "outputId": "16702098-1336-4b4d-bded-150eac4d640e"
      },
      "execution_count": 1,
      "outputs": [
        {
          "output_type": "stream",
          "name": "stdout",
          "text": [
            "Mounted at /content/drive\n"
          ]
        }
      ]
    },
    {
      "cell_type": "code",
      "source": [
        "!pip install tslearn\n",
        "!pip install imbalanced-learn  # SMOTE를 사용하기 위해 imbalanced-learn 설치\n"
      ],
      "metadata": {
        "colab": {
          "base_uri": "https://localhost:8080/"
        },
        "id": "Y7yZLykYwkMg",
        "outputId": "48bce804-96b2-413a-e8bd-fc12e012adc7",
        "collapsed": true
      },
      "execution_count": 2,
      "outputs": [
        {
          "output_type": "stream",
          "name": "stdout",
          "text": [
            "Collecting tslearn\n",
            "  Downloading tslearn-0.6.3-py3-none-any.whl.metadata (14 kB)\n",
            "Requirement already satisfied: numpy in /usr/local/lib/python3.11/dist-packages (from tslearn) (2.0.2)\n",
            "Requirement already satisfied: scipy in /usr/local/lib/python3.11/dist-packages (from tslearn) (1.15.3)\n",
            "Requirement already satisfied: scikit-learn in /usr/local/lib/python3.11/dist-packages (from tslearn) (1.6.1)\n",
            "Requirement already satisfied: numba in /usr/local/lib/python3.11/dist-packages (from tslearn) (0.60.0)\n",
            "Requirement already satisfied: joblib in /usr/local/lib/python3.11/dist-packages (from tslearn) (1.5.0)\n",
            "Requirement already satisfied: llvmlite<0.44,>=0.43.0dev0 in /usr/local/lib/python3.11/dist-packages (from numba->tslearn) (0.43.0)\n",
            "Requirement already satisfied: threadpoolctl>=3.1.0 in /usr/local/lib/python3.11/dist-packages (from scikit-learn->tslearn) (3.6.0)\n",
            "Downloading tslearn-0.6.3-py3-none-any.whl (374 kB)\n",
            "\u001b[2K   \u001b[90m━━━━━━━━━━━━━━━━━━━━━━━━━━━━━━━━━━━━━━━━\u001b[0m \u001b[32m374.4/374.4 kB\u001b[0m \u001b[31m22.7 MB/s\u001b[0m eta \u001b[36m0:00:00\u001b[0m\n",
            "\u001b[?25hInstalling collected packages: tslearn\n",
            "Successfully installed tslearn-0.6.3\n",
            "Requirement already satisfied: imbalanced-learn in /usr/local/lib/python3.11/dist-packages (0.13.0)\n",
            "Requirement already satisfied: numpy<3,>=1.24.3 in /usr/local/lib/python3.11/dist-packages (from imbalanced-learn) (2.0.2)\n",
            "Requirement already satisfied: scipy<2,>=1.10.1 in /usr/local/lib/python3.11/dist-packages (from imbalanced-learn) (1.15.3)\n",
            "Requirement already satisfied: scikit-learn<2,>=1.3.2 in /usr/local/lib/python3.11/dist-packages (from imbalanced-learn) (1.6.1)\n",
            "Requirement already satisfied: sklearn-compat<1,>=0.1 in /usr/local/lib/python3.11/dist-packages (from imbalanced-learn) (0.1.3)\n",
            "Requirement already satisfied: joblib<2,>=1.1.1 in /usr/local/lib/python3.11/dist-packages (from imbalanced-learn) (1.5.0)\n",
            "Requirement already satisfied: threadpoolctl<4,>=2.0.0 in /usr/local/lib/python3.11/dist-packages (from imbalanced-learn) (3.6.0)\n"
          ]
        }
      ]
    },
    {
      "cell_type": "code",
      "execution_count": 3,
      "metadata": {
        "id": "XP6dwWI-vp_R"
      },
      "outputs": [],
      "source": [
        "import numpy as np\n",
        "import pandas as pd\n",
        "import matplotlib.pyplot as plt\n",
        "from scipy.spatial.distance import euclidean\n",
        "from sklearn.model_selection import train_test_split\n",
        "from sklearn.neighbors import KNeighborsClassifier\n",
        "from sklearn.metrics import accuracy_score, f1_score, classification_report, recall_score, confusion_matrix\n",
        "from urllib.request import urlopen\n",
        "from io import StringIO\n",
        "from google.colab import drive\n",
        "import random\n",
        "from imblearn.metrics import specificity_score\n",
        "from scipy.stats import mode\n",
        "import seaborn as sns\n",
        "import tensorflow as tf\n",
        "from tensorflow.keras.models import Sequential\n",
        "from tensorflow.keras.layers import LSTM, Dense, Conv1D, Flatten\n",
        "from tslearn.metrics import dtw_path\n",
        "from sklearn.linear_model import LogisticRegression\n",
        "from sklearn.tree import DecisionTreeClassifier\n",
        "from xgboost import XGBClassifier\n",
        "from collections import defaultdict"
      ]
    },
    {
      "cell_type": "code",
      "source": [
        "df_X_train = pd.read_csv('/content/drive/My Drive/PhalangesOutlinesCorrect/X_train_Worms.csv')\n",
        "df_y_train = pd.read_csv('/content/drive/My Drive/PhalangesOutlinesCorrect/y_train_Worms.csv')\n",
        "df_X_test = pd.read_csv('/content/drive/MyDrive/PhalangesOutlinesCorrect/X_test_Worms.csv')\n",
        "df_y_test = pd.read_csv('/content/drive/MyDrive/PhalangesOutlinesCorrect/y_test_Worms.csv')"
      ],
      "metadata": {
        "id": "S3eKM5EkvwM6"
      },
      "execution_count": 4,
      "outputs": []
    },
    {
      "cell_type": "code",
      "source": [
        "X_train = df_X_train.values\n",
        "y_train = df_y_train.values.reshape(-1)\n",
        "X_test = df_X_test.values\n",
        "y_test = df_y_test.values.reshape(-1)"
      ],
      "metadata": {
        "id": "shwm8y-O4_ms"
      },
      "execution_count": 5,
      "outputs": []
    },
    {
      "cell_type": "code",
      "source": [
        "# DTW 기반 평균 시계열 생성 함수\n",
        "def generate_synthetic_data_class(X_class, num_samples):\n",
        "    synthetic_data = []\n",
        "    for _ in range(num_samples):\n",
        "        idx1, idx2 = np.random.choice(len(X_class), 2, replace=False)\n",
        "        new_sample = (X_class[idx1] + X_class[idx2]) / 2  # 단순 평균\n",
        "        synthetic_data.append(new_sample)\n",
        "    return np.array(synthetic_data)"
      ],
      "metadata": {
        "id": "jm-KapVQC00K"
      },
      "execution_count": 7,
      "outputs": []
    },
    {
      "cell_type": "code",
      "source": [
        "# 2. 클래스별로 증강이 필요한 개수 계산\n",
        "class_counts = pd.Series(y_train).value_counts()\n",
        "# 2. 평균 클래스 목표 수 (전체 샘플 수의 2배 / 클래스 수)\n",
        "N = len(X_train)\n",
        "target_total = N * 2\n",
        "class_aver = target_total / len(class_counts)\n",
        "# 3. 증강이 필요 없는 클래스 및 필요 클래스 분리\n",
        "non_aug_classes = {}\n",
        "aug_classes = {}\n",
        "\n",
        "for cls, count in class_counts.items():\n",
        "    if count >= class_aver:\n",
        "        non_aug_classes[cls] = count\n",
        "    else:\n",
        "        aug_classes[cls] = count\n",
        "\n",
        "# 4. 남은 목표 수 및 증강 클래스 수 계산\n",
        "non_aug_sum = sum(non_aug_classes.values())\n",
        "remaining_target = target_total - non_aug_sum\n",
        "num_aug_classes = len(aug_classes)\n",
        "\n",
        "# 5. 클래스별 목표 수 재산정\n",
        "class_targets = {}\n",
        "for cls, count in aug_classes.items():\n",
        "    class_targets[cls] = int(remaining_target / num_aug_classes)\n",
        "\n",
        "# 6. 클래스별 증강 수행\n",
        "X_augmented_list = []\n",
        "y_augmented_list = []\n",
        "\n",
        "for cls, current_count in aug_classes.items():\n",
        "    target = class_targets[cls]\n",
        "    n_to_generate = target - current_count\n",
        "    if n_to_generate > 0:\n",
        "        X_class = X_train[y_train == cls]\n",
        "        X_aug = generate_synthetic_data_class(X_class, n_to_generate)\n",
        "        y_aug = np.full(len(X_aug), cls)\n",
        "        X_augmented_list.append(X_aug)\n",
        "        y_augmented_list.append(y_aug)"
      ],
      "metadata": {
        "id": "RqmUj7pRC2Ou"
      },
      "execution_count": 8,
      "outputs": []
    },
    {
      "cell_type": "code",
      "source": [
        "print(\"==== 증강 제외 클래스 ====\")\n",
        "for cls, count in non_aug_classes.items():\n",
        "    print(f\"Class {cls}: {count}개\")\n",
        "\n",
        "print(\"\\n==== 증강 대상 클래스 및 목표 샘플 수 ====\")\n",
        "for cls in aug_classes:\n",
        "    print(f\"Class {cls}: 기존 {aug_classes[cls]}개 → 목표 {class_targets[cls]}개 → 생성 {class_targets[cls] - aug_classes[cls]}개\")\n"
      ],
      "metadata": {
        "colab": {
          "base_uri": "https://localhost:8080/"
        },
        "id": "fVjyziPsDCxx",
        "outputId": "ecdfcfb1-0c7c-4a0c-cdd1-ce67efc22d07"
      },
      "execution_count": 9,
      "outputs": [
        {
          "output_type": "stream",
          "name": "stdout",
          "text": [
            "==== 증강 제외 클래스 ====\n",
            "Class 1: 76개\n",
            "\n",
            "==== 증강 대상 클래스 및 목표 샘플 수 ====\n",
            "Class 4: 기존 32개 → 목표 71개 → 생성 39개\n",
            "Class 2: 기존 31개 → 목표 71개 → 생성 40개\n",
            "Class 3: 기존 25개 → 목표 71개 → 생성 46개\n",
            "Class 5: 기존 17개 → 목표 71개 → 생성 54개\n"
          ]
        }
      ]
    },
    {
      "cell_type": "code",
      "source": [
        "# 7. 전체 학습 데이터 구성\n",
        "if X_augmented_list:\n",
        "    X_augmented_all = np.concatenate(X_augmented_list, axis=0)\n",
        "    y_augmented_all = np.concatenate(y_augmented_list, axis=0)\n",
        "    X_synthetic = np.concatenate((X_train, X_augmented_all), axis=0)\n",
        "    y_synthetic = np.concatenate((y_train, y_augmented_all), axis=0)\n",
        "else:\n",
        "    X_synthetic = X_train\n",
        "    y_synthetic = y_train"
      ],
      "metadata": {
        "id": "S2X-lVVkONV7"
      },
      "execution_count": 10,
      "outputs": []
    },
    {
      "cell_type": "code",
      "source": [
        "from tensorflow.keras.utils import to_categorical\n",
        "from sklearn.preprocessing import LabelEncoder\n",
        "\n",
        "# Label 인코딩\n",
        "le = LabelEncoder()\n",
        "y_synthetic_encoded = le.fit_transform(y_synthetic)\n",
        "y_test_encoded = le.transform(y_test)\n",
        "num_classes = len(np.unique(y_synthetic_encoded))\n",
        "\n",
        "# One-hot encoding\n",
        "y_synthetic_cat = to_categorical(y_synthetic_encoded, num_classes=num_classes)\n",
        "y_test_cat = to_categorical(y_test_encoded, num_classes=num_classes)\n"
      ],
      "metadata": {
        "id": "jRFEfPp2F4kL"
      },
      "execution_count": 16,
      "outputs": []
    },
    {
      "cell_type": "code",
      "source": [
        "def predict_with_logistic_regression(X_train, y_train, X_test):\n",
        "    model = LogisticRegression()\n",
        "    model.fit(X_train, y_train)\n",
        "    return model.predict(X_test)\n",
        "\n",
        "def predict_with_cart(X_train, y_train, X_test):\n",
        "    model = DecisionTreeClassifier()\n",
        "    model.fit(X_train, y_train)\n",
        "    return model.predict(X_test)\n",
        "\n",
        "def predict_with_knn(X_train, y_train, X_test, k=3):\n",
        "    model = KNeighborsClassifier(n_neighbors=k)\n",
        "    model.fit(X_train, y_train)\n",
        "    return model.predict(X_test)\n",
        "\n",
        "def predict_with_xgboost(X_train, y_train, X_test, label_encoder=None):\n",
        "    from xgboost import XGBClassifier\n",
        "\n",
        "    model = XGBClassifier(use_label_encoder=False, eval_metric='mlogloss')\n",
        "    model.fit(X_train, y_train)\n",
        "    pred_y = model.predict(X_test)\n",
        "\n",
        "    if label_encoder is not None:\n",
        "        pred_y = label_encoder.inverse_transform(pred_y)\n",
        "\n",
        "    return pred_y\n",
        "\n",
        "def predict_with_lstm(X_train, y_train, X_test, num_classes):\n",
        "    model = Sequential()\n",
        "    model.add(LSTM(50, activation='relu', input_shape=(X_train.shape[1], 1)))\n",
        "    model.add(Dense(num_classes, activation='softmax'))\n",
        "    model.compile(optimizer='adam', loss='categorical_crossentropy', metrics=['accuracy'])\n",
        "\n",
        "    X_train_reshaped = X_train.reshape((X_train.shape[0], X_train.shape[1], 1))\n",
        "    X_test_reshaped = X_test.reshape((X_test.shape[0], X_test.shape[1], 1))\n",
        "\n",
        "    model.fit(X_train_reshaped, y_train, epochs=50, batch_size=32, verbose=0)\n",
        "    pred_prob = model.predict(X_test_reshaped)\n",
        "    return np.argmax(pred_prob, axis=1)\n",
        "\n",
        "\n",
        "def predict_with_cnn(X_train, y_train, X_test, num_classes):\n",
        "    model = Sequential()\n",
        "    model.add(Conv1D(64, kernel_size=3, activation='relu', input_shape=(X_train.shape[1], 1)))\n",
        "    model.add(Flatten())\n",
        "    model.add(Dense(num_classes, activation='softmax'))\n",
        "    model.compile(optimizer='adam', loss='categorical_crossentropy', metrics=['accuracy'])\n",
        "\n",
        "    X_train_reshaped = X_train.reshape((X_train.shape[0], X_train.shape[1], 1))\n",
        "    X_test_reshaped = X_test.reshape((X_test.shape[0], X_test.shape[1], 1))\n",
        "\n",
        "    model.fit(X_train_reshaped, y_train, epochs=50, batch_size=32, verbose=0)\n",
        "    pred_prob = model.predict(X_test_reshaped)\n",
        "    return np.argmax(pred_prob, axis=1)\n"
      ],
      "metadata": {
        "id": "Zp6INzJ5Ooi4"
      },
      "execution_count": 19,
      "outputs": []
    },
    {
      "cell_type": "code",
      "source": [
        "predictions = {\n",
        "    \"Logistic Regression\": predict_with_logistic_regression(X_synthetic, y_synthetic_encoded, X_test),\n",
        "    \"CART\": predict_with_cart(X_synthetic, y_synthetic_encoded, X_test),\n",
        "    \"KNN\": predict_with_knn(X_synthetic, y_synthetic_encoded, X_test),\n",
        "    \"XGBoost\": predict_with_xgboost(X_synthetic, y_synthetic_encoded, X_test),\n",
        "    \"LSTM\": predict_with_lstm(X_synthetic, y_synthetic_cat, X_test, num_classes),\n",
        "    \"CNN\": predict_with_cnn(X_synthetic, y_synthetic_cat, X_test, num_classes)\n",
        "}\n"
      ],
      "metadata": {
        "colab": {
          "base_uri": "https://localhost:8080/"
        },
        "id": "93G4R4VkJiOM",
        "outputId": "b7b7828c-cae8-45d4-bb00-ec458b8f1288"
      },
      "execution_count": 20,
      "outputs": [
        {
          "output_type": "stream",
          "name": "stderr",
          "text": [
            "/usr/local/lib/python3.11/dist-packages/sklearn/linear_model/_logistic.py:465: ConvergenceWarning: lbfgs failed to converge (status=1):\n",
            "STOP: TOTAL NO. OF ITERATIONS REACHED LIMIT.\n",
            "\n",
            "Increase the number of iterations (max_iter) or scale the data as shown in:\n",
            "    https://scikit-learn.org/stable/modules/preprocessing.html\n",
            "Please also refer to the documentation for alternative solver options:\n",
            "    https://scikit-learn.org/stable/modules/linear_model.html#logistic-regression\n",
            "  n_iter_i = _check_optimize_result(\n",
            "/usr/local/lib/python3.11/dist-packages/xgboost/core.py:158: UserWarning: [11:12:54] WARNING: /workspace/src/learner.cc:740: \n",
            "Parameters: { \"use_label_encoder\" } are not used.\n",
            "\n",
            "  warnings.warn(smsg, UserWarning)\n",
            "/usr/local/lib/python3.11/dist-packages/keras/src/layers/rnn/rnn.py:200: UserWarning: Do not pass an `input_shape`/`input_dim` argument to a layer. When using Sequential models, prefer using an `Input(shape)` object as the first layer in the model instead.\n",
            "  super().__init__(**kwargs)\n",
            "WARNING:tensorflow:5 out of the last 7 calls to <function TensorFlowTrainer.make_predict_function.<locals>.one_step_on_data_distributed at 0x7a9d04169120> triggered tf.function retracing. Tracing is expensive and the excessive number of tracings could be due to (1) creating @tf.function repeatedly in a loop, (2) passing tensors with different shapes, (3) passing Python objects instead of tensors. For (1), please define your @tf.function outside of the loop. For (2), @tf.function has reduce_retracing=True option that can avoid unnecessary retracing. For (3), please refer to https://www.tensorflow.org/guide/function#controlling_retracing and https://www.tensorflow.org/api_docs/python/tf/function for  more details.\n"
          ]
        },
        {
          "output_type": "stream",
          "name": "stdout",
          "text": [
            "\u001b[1m2/3\u001b[0m \u001b[32m━━━━━━━━━━━━━\u001b[0m\u001b[37m━━━━━━━\u001b[0m \u001b[1m0s\u001b[0m 137ms/step"
          ]
        },
        {
          "output_type": "stream",
          "name": "stderr",
          "text": [
            "WARNING:tensorflow:6 out of the last 9 calls to <function TensorFlowTrainer.make_predict_function.<locals>.one_step_on_data_distributed at 0x7a9d04169120> triggered tf.function retracing. Tracing is expensive and the excessive number of tracings could be due to (1) creating @tf.function repeatedly in a loop, (2) passing tensors with different shapes, (3) passing Python objects instead of tensors. For (1), please define your @tf.function outside of the loop. For (2), @tf.function has reduce_retracing=True option that can avoid unnecessary retracing. For (3), please refer to https://www.tensorflow.org/guide/function#controlling_retracing and https://www.tensorflow.org/api_docs/python/tf/function for  more details.\n"
          ]
        },
        {
          "output_type": "stream",
          "name": "stdout",
          "text": [
            "\u001b[1m3/3\u001b[0m \u001b[32m━━━━━━━━━━━━━━━━━━━━\u001b[0m\u001b[37m\u001b[0m \u001b[1m1s\u001b[0m 184ms/step\n"
          ]
        },
        {
          "output_type": "stream",
          "name": "stderr",
          "text": [
            "/usr/local/lib/python3.11/dist-packages/keras/src/layers/convolutional/base_conv.py:107: UserWarning: Do not pass an `input_shape`/`input_dim` argument to a layer. When using Sequential models, prefer using an `Input(shape)` object as the first layer in the model instead.\n",
            "  super().__init__(activity_regularizer=activity_regularizer, **kwargs)\n"
          ]
        },
        {
          "output_type": "stream",
          "name": "stdout",
          "text": [
            "\u001b[1m3/3\u001b[0m \u001b[32m━━━━━━━━━━━━━━━━━━━━\u001b[0m\u001b[37m\u001b[0m \u001b[1m0s\u001b[0m 32ms/step\n"
          ]
        }
      ]
    },
    {
      "cell_type": "code",
      "source": [
        "# 성능 지표 저장을 위한 리스트\n",
        "results = []\n",
        "for model_name, pred_y in predictions.items():\n",
        "    accuracy = accuracy_score(y_test_encoded, pred_y)\n",
        "    recall = recall_score(y_test_encoded, pred_y, average='macro')\n",
        "    f1 = f1_score(y_test_encoded, pred_y, average='macro')\n",
        "    specificity = specificity_score(y_test_encoded, pred_y, average='macro')\n",
        "    conf_matrix = confusion_matrix(y_test_encoded, pred_y)\n",
        "    results.append([accuracy, f1, recall, specificity, conf_matrix])"
      ],
      "metadata": {
        "id": "NhqKYEuxATzd"
      },
      "execution_count": 21,
      "outputs": []
    },
    {
      "cell_type": "code",
      "source": [
        "from collections import Counter\n",
        "\n",
        "# 증강 전 클래스별 샘플 수\n",
        "original_class_distribution = Counter(y_train)\n",
        "print(\"증강 전 클래스별 샘플 수:\")\n",
        "for cls, count in original_class_distribution.items():\n",
        "    print(f\"클래스 {cls}: {count}개\")\n",
        "\n",
        "# 증강 후 클래스별 샘플 수\n",
        "augmented_class_distribution = Counter(y_synthetic)\n",
        "print(\"\\n증강 후 클래스별 샘플 수:\")\n",
        "for cls, count in augmented_class_distribution.items():\n",
        "    print(f\"클래스 {cls}: {count}개\")"
      ],
      "metadata": {
        "colab": {
          "base_uri": "https://localhost:8080/"
        },
        "id": "2q7p9pXCGhxp",
        "outputId": "6cef1010-387f-4bc7-e4aa-e8f2fc543120"
      },
      "execution_count": 22,
      "outputs": [
        {
          "output_type": "stream",
          "name": "stdout",
          "text": [
            "증강 전 클래스별 샘플 수:\n",
            "클래스 1: 76개\n",
            "클래스 2: 31개\n",
            "클래스 3: 25개\n",
            "클래스 4: 32개\n",
            "클래스 5: 17개\n",
            "\n",
            "증강 후 클래스별 샘플 수:\n",
            "클래스 1: 76개\n",
            "클래스 2: 71개\n",
            "클래스 3: 71개\n",
            "클래스 4: 71개\n",
            "클래스 5: 71개\n"
          ]
        }
      ]
    },
    {
      "cell_type": "code",
      "source": [
        "# 성능 지표를 DataFrame으로 변환\n",
        "results_df = pd.DataFrame(results, columns=[\"Accuracy\", \"F1\", \"Recall\", \"Specificity\", \"Confusion Matrix\"], index=predictions.keys())\n",
        "model_results = results_df.T\n",
        "# 결과를 출력\n",
        "print(\"\\n모델 성능 비교 결과:\")\n",
        "print(model_results)\n",
        "\n",
        "# 결과를 CSV 파일로 저장\n",
        "model_results.to_csv(\"/content/drive/My Drive/PhalangesOutlinesCorrect/results/(다중)tsaug_models_result.csv\")"
      ],
      "metadata": {
        "id": "tlIWofrIP6wB",
        "colab": {
          "base_uri": "https://localhost:8080/"
        },
        "outputId": "e746f992-f7b6-4357-8156-ff71da509046"
      },
      "execution_count": 23,
      "outputs": [
        {
          "output_type": "stream",
          "name": "stdout",
          "text": [
            "\n",
            "모델 성능 비교 결과:\n",
            "                                                Logistic Regression  \\\n",
            "Accuracy                                                   0.350649   \n",
            "F1                                                         0.312383   \n",
            "Recall                                                     0.365711   \n",
            "Specificity                                                0.829261   \n",
            "Confusion Matrix  [[13, 2, 4, 8, 6], [3, 1, 3, 4, 2], [4, 1, 3, ...   \n",
            "\n",
            "                                                               CART  \\\n",
            "Accuracy                                                   0.402597   \n",
            "F1                                                         0.368952   \n",
            "Recall                                                     0.417541   \n",
            "Specificity                                                0.853598   \n",
            "Confusion Matrix  [[14, 1, 10, 5, 3], [3, 2, 1, 6, 1], [2, 0, 5,...   \n",
            "\n",
            "                                                                KNN  \\\n",
            "Accuracy                                                   0.220779   \n",
            "F1                                                         0.221509   \n",
            "Recall                                                     0.300105   \n",
            "Specificity                                                0.807744   \n",
            "Confusion Matrix  [[3, 2, 4, 11, 13], [0, 1, 3, 3, 6], [1, 1, 4,...   \n",
            "\n",
            "                                                            XGBoost  \\\n",
            "Accuracy                                                   0.480519   \n",
            "F1                                                         0.458725   \n",
            "Recall                                                     0.496107   \n",
            "Specificity                                                0.857505   \n",
            "Confusion Matrix  [[17, 1, 6, 7, 2], [8, 2, 1, 1, 1], [1, 1, 6, ...   \n",
            "\n",
            "                                                               LSTM  \\\n",
            "Accuracy                                                   0.428571   \n",
            "F1                                                             0.12   \n",
            "Recall                                                          0.2   \n",
            "Specificity                                                     0.8   \n",
            "Confusion Matrix  [[33, 0, 0, 0, 0], [13, 0, 0, 0, 0], [10, 0, 0...   \n",
            "\n",
            "                                                                CNN  \n",
            "Accuracy                                                   0.363636  \n",
            "F1                                                         0.347587  \n",
            "Recall                                                     0.395035  \n",
            "Specificity                                                0.830792  \n",
            "Confusion Matrix  [[12, 1, 6, 9, 5], [5, 2, 3, 1, 2], [3, 0, 4, ...  \n"
          ]
        }
      ]
    },
    {
      "cell_type": "code",
      "source": [
        "# y_test의 샘플링 비율 및 개수 계산\n",
        "y_test_series = pd.Series(y_test)\n",
        "class_counts = y_test_series.value_counts() # 클래스별 개수 계산\n",
        "sampling_ratio = y_test_series.value_counts(normalize=True)  # normalize=True를 사용하여 비율 계산\n",
        "\n",
        "print(\"\\ny_test 샘플링 비율 및 개수:\")\n",
        "for class_value, ratio in sampling_ratio.items():\n",
        "    count = class_counts[class_value]\n",
        "    print(f\"클래스 {class_value}: 비율 = {ratio:.4f} (개수 = {count})\")"
      ],
      "metadata": {
        "id": "qx2EHpRdSyyN"
      },
      "execution_count": null,
      "outputs": []
    }
  ]
}