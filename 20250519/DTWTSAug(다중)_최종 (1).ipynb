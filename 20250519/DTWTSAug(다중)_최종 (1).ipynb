{
  "nbformat": 4,
  "nbformat_minor": 0,
  "metadata": {
    "colab": {
      "provenance": []
    },
    "kernelspec": {
      "name": "python3",
      "display_name": "Python 3"
    },
    "language_info": {
      "name": "python"
    }
  },
  "cells": [
    {
      "cell_type": "code",
      "source": [
        "from google.colab import drive\n",
        "\n",
        "# Google Drive 마운트\n",
        "drive.mount('/content/drive')"
      ],
      "metadata": {
        "colab": {
          "base_uri": "https://localhost:8080/"
        },
        "id": "dBcyH50PwPWY",
        "outputId": "5254746f-0528-43e3-b741-8706ffa4b145"
      },
      "execution_count": 1,
      "outputs": [
        {
          "output_type": "stream",
          "name": "stdout",
          "text": [
            "Mounted at /content/drive\n"
          ]
        }
      ]
    },
    {
      "cell_type": "code",
      "source": [
        "!pip install tslearn\n",
        "!pip install imbalanced-learn  # SMOTE를 사용하기 위해 imbalanced-learn 설치\n",
        "!pip install dtaidistance"
      ],
      "metadata": {
        "colab": {
          "base_uri": "https://localhost:8080/"
        },
        "id": "Y7yZLykYwkMg",
        "outputId": "2ddd002a-3cdb-4891-abc7-7d6aa07d4001",
        "collapsed": true
      },
      "execution_count": 2,
      "outputs": [
        {
          "output_type": "stream",
          "name": "stdout",
          "text": [
            "Collecting tslearn\n",
            "  Downloading tslearn-0.6.3-py3-none-any.whl.metadata (14 kB)\n",
            "Requirement already satisfied: numpy in /usr/local/lib/python3.11/dist-packages (from tslearn) (2.0.2)\n",
            "Requirement already satisfied: scipy in /usr/local/lib/python3.11/dist-packages (from tslearn) (1.15.3)\n",
            "Requirement already satisfied: scikit-learn in /usr/local/lib/python3.11/dist-packages (from tslearn) (1.6.1)\n",
            "Requirement already satisfied: numba in /usr/local/lib/python3.11/dist-packages (from tslearn) (0.60.0)\n",
            "Requirement already satisfied: joblib in /usr/local/lib/python3.11/dist-packages (from tslearn) (1.5.0)\n",
            "Requirement already satisfied: llvmlite<0.44,>=0.43.0dev0 in /usr/local/lib/python3.11/dist-packages (from numba->tslearn) (0.43.0)\n",
            "Requirement already satisfied: threadpoolctl>=3.1.0 in /usr/local/lib/python3.11/dist-packages (from scikit-learn->tslearn) (3.6.0)\n",
            "Downloading tslearn-0.6.3-py3-none-any.whl (374 kB)\n",
            "\u001b[2K   \u001b[90m━━━━━━━━━━━━━━━━━━━━━━━━━━━━━━━━━━━━━━━━\u001b[0m \u001b[32m374.4/374.4 kB\u001b[0m \u001b[31m6.4 MB/s\u001b[0m eta \u001b[36m0:00:00\u001b[0m\n",
            "\u001b[?25hInstalling collected packages: tslearn\n",
            "Successfully installed tslearn-0.6.3\n",
            "Requirement already satisfied: imbalanced-learn in /usr/local/lib/python3.11/dist-packages (0.13.0)\n",
            "Requirement already satisfied: numpy<3,>=1.24.3 in /usr/local/lib/python3.11/dist-packages (from imbalanced-learn) (2.0.2)\n",
            "Requirement already satisfied: scipy<2,>=1.10.1 in /usr/local/lib/python3.11/dist-packages (from imbalanced-learn) (1.15.3)\n",
            "Requirement already satisfied: scikit-learn<2,>=1.3.2 in /usr/local/lib/python3.11/dist-packages (from imbalanced-learn) (1.6.1)\n",
            "Requirement already satisfied: sklearn-compat<1,>=0.1 in /usr/local/lib/python3.11/dist-packages (from imbalanced-learn) (0.1.3)\n",
            "Requirement already satisfied: joblib<2,>=1.1.1 in /usr/local/lib/python3.11/dist-packages (from imbalanced-learn) (1.5.0)\n",
            "Requirement already satisfied: threadpoolctl<4,>=2.0.0 in /usr/local/lib/python3.11/dist-packages (from imbalanced-learn) (3.6.0)\n",
            "Collecting dtaidistance\n",
            "  Downloading dtaidistance-2.3.13-cp311-cp311-manylinux_2_17_x86_64.manylinux2014_x86_64.whl.metadata (13 kB)\n",
            "Requirement already satisfied: numpy in /usr/local/lib/python3.11/dist-packages (from dtaidistance) (2.0.2)\n",
            "Downloading dtaidistance-2.3.13-cp311-cp311-manylinux_2_17_x86_64.manylinux2014_x86_64.whl (3.0 MB)\n",
            "\u001b[2K   \u001b[90m━━━━━━━━━━━━━━━━━━━━━━━━━━━━━━━━━━━━━━━━\u001b[0m \u001b[32m3.0/3.0 MB\u001b[0m \u001b[31m27.7 MB/s\u001b[0m eta \u001b[36m0:00:00\u001b[0m\n",
            "\u001b[?25hInstalling collected packages: dtaidistance\n",
            "Successfully installed dtaidistance-2.3.13\n"
          ]
        }
      ]
    },
    {
      "cell_type": "code",
      "execution_count": 3,
      "metadata": {
        "id": "XP6dwWI-vp_R"
      },
      "outputs": [],
      "source": [
        "import numpy as np\n",
        "import pandas as pd\n",
        "from collections import defaultdict\n",
        "from dtaidistance import dtw\n",
        "from sklearn.linear_model import LogisticRegression\n",
        "from sklearn.tree import DecisionTreeClassifier\n",
        "from sklearn.neighbors import KNeighborsClassifier\n",
        "from xgboost import XGBClassifier\n",
        "from sklearn.metrics import accuracy_score, recall_score, f1_score, confusion_matrix\n",
        "from tensorflow.keras.models import Sequential\n",
        "from tensorflow.keras.layers import LSTM, Dense, Conv1D, Flatten\n",
        "from scipy.stats import mode\n",
        "import matplotlib.pyplot as plt\n",
        "import seaborn as sns\n",
        "from tslearn.metrics import dtw_path\n",
        "from imblearn.metrics import specificity_score\n",
        "# LabelEncoder 임포트(수정 클래스가 1부터 시작해서 클래스 레이블이 0부터 시작 만들어주는 것)\n",
        "from sklearn.preprocessing import LabelEncoder"
      ]
    },
    {
      "cell_type": "code",
      "source": [
        "df_X_train = pd.read_csv('/content/drive/My Drive/PhalangesOutlinesCorrect/X_train_Worms.csv')\n",
        "df_y_train = pd.read_csv('/content/drive/My Drive/PhalangesOutlinesCorrect/y_train_Worms.csv')\n",
        "df_X_test = pd.read_csv('/content/drive/MyDrive/PhalangesOutlinesCorrect/X_test_Worms.csv')\n",
        "df_y_test = pd.read_csv('/content/drive/MyDrive/PhalangesOutlinesCorrect/y_test_Worms.csv')"
      ],
      "metadata": {
        "id": "S3eKM5EkvwM6"
      },
      "execution_count": 4,
      "outputs": []
    },
    {
      "cell_type": "code",
      "source": [
        "# 데이터 전처리\n",
        "X_train = df_X_train.values\n",
        "y_train = df_y_train.values.reshape(-1)  # 1차원 배열(벡터)로 변환\n",
        "X_test = df_X_test.values\n",
        "y_test = df_y_test.values.reshape(-1)  # 1차원 배열(벡터)로 변환"
      ],
      "metadata": {
        "id": "dKaCn-spSZKm"
      },
      "execution_count": 5,
      "outputs": []
    },
    {
      "cell_type": "code",
      "source": [
        "print(X_train.shape)\n",
        "print(y_train.shape)\n",
        "print(X_test.shape)\n",
        "print(y_test.shape)"
      ],
      "metadata": {
        "colab": {
          "base_uri": "https://localhost:8080/"
        },
        "id": "eYMvPNYl-qF8",
        "outputId": "18b07dda-39c6-4103-c7ca-b0b529e2fac5"
      },
      "execution_count": 6,
      "outputs": [
        {
          "output_type": "stream",
          "name": "stdout",
          "text": [
            "(181, 900)\n",
            "(181,)\n",
            "(77, 900)\n",
            "(77,)\n"
          ]
        }
      ]
    },
    {
      "cell_type": "code",
      "source": [
        "from collections import defaultdict\n",
        "from dtaidistance import dtw\n",
        "\n",
        "# DTW 기반 데이터 증강 함수\n",
        "def generate_dtw_synthetic_data(X_class, num_samples):\n",
        "    synthetic_data = []\n",
        "    for _ in range(num_samples):\n",
        "        idx1, idx2 = np.random.choice(len(X_class), 2, replace=False)\n",
        "        a, b = X_class[idx1], X_class[idx2]\n",
        "\n",
        "        path = dtw.warping_path(a, b)\n",
        "\n",
        "        a_to_b_map = defaultdict(list)\n",
        "        for i, j in path:\n",
        "            a_to_b_map[i].append(b[j])\n",
        "        a_mapped = [np.mean([(a[i] + bj) / 2 for bj in a_to_b_map[i]]) if i in a_to_b_map else a[i]\n",
        "                    for i in range(len(a))]\n",
        "\n",
        "        b_to_a_map = defaultdict(list)\n",
        "        for i, j in path:\n",
        "            b_to_a_map[j].append(a[i])\n",
        "        b_mapped = [np.mean([(b[j] + ai) / 2 for ai in b_to_a_map[j]]) if j in b_to_a_map else b[j]\n",
        "                    for j in range(len(b))]\n",
        "\n",
        "        dtw_aug = np.mean([a_mapped, b_mapped], axis=0)\n",
        "        synthetic_data.append(dtw_aug)\n",
        "\n",
        "    return np.array(synthetic_data)"
      ],
      "metadata": {
        "id": "S2X-lVVkONV7"
      },
      "execution_count": 26,
      "outputs": []
    },
    {
      "cell_type": "code",
      "source": [
        "# 2. 클래스별로 증강이 필요한 개수 계산\n",
        "class_counts = pd.Series(y_train).value_counts()\n",
        "max_count = class_counts.max()"
      ],
      "metadata": {
        "id": "fc3af-Gu18ex"
      },
      "execution_count": 7,
      "outputs": []
    },
    {
      "cell_type": "code",
      "source": [
        "class_counts"
      ],
      "metadata": {
        "colab": {
          "base_uri": "https://localhost:8080/",
          "height": 241
        },
        "id": "3pByfw6M-w43",
        "outputId": "0ab829b6-1b79-43b2-a8a9-4ec545f3292c"
      },
      "execution_count": 8,
      "outputs": [
        {
          "output_type": "execute_result",
          "data": {
            "text/plain": [
              "1    76\n",
              "4    32\n",
              "2    31\n",
              "3    25\n",
              "5    17\n",
              "Name: count, dtype: int64"
            ],
            "text/html": [
              "<div>\n",
              "<style scoped>\n",
              "    .dataframe tbody tr th:only-of-type {\n",
              "        vertical-align: middle;\n",
              "    }\n",
              "\n",
              "    .dataframe tbody tr th {\n",
              "        vertical-align: top;\n",
              "    }\n",
              "\n",
              "    .dataframe thead th {\n",
              "        text-align: right;\n",
              "    }\n",
              "</style>\n",
              "<table border=\"1\" class=\"dataframe\">\n",
              "  <thead>\n",
              "    <tr style=\"text-align: right;\">\n",
              "      <th></th>\n",
              "      <th>count</th>\n",
              "    </tr>\n",
              "  </thead>\n",
              "  <tbody>\n",
              "    <tr>\n",
              "      <th>1</th>\n",
              "      <td>76</td>\n",
              "    </tr>\n",
              "    <tr>\n",
              "      <th>4</th>\n",
              "      <td>32</td>\n",
              "    </tr>\n",
              "    <tr>\n",
              "      <th>2</th>\n",
              "      <td>31</td>\n",
              "    </tr>\n",
              "    <tr>\n",
              "      <th>3</th>\n",
              "      <td>25</td>\n",
              "    </tr>\n",
              "    <tr>\n",
              "      <th>5</th>\n",
              "      <td>17</td>\n",
              "    </tr>\n",
              "  </tbody>\n",
              "</table>\n",
              "</div><br><label><b>dtype:</b> int64</label>"
            ]
          },
          "metadata": {},
          "execution_count": 8
        }
      ]
    },
    {
      "cell_type": "code",
      "source": [
        "# 2. 평균 클래스 목표 수 (전체 샘플 수의 2배 / 클래스 수)\n",
        "N = len(X_train)\n",
        "target_total = N * 2\n",
        "class_aver = target_total / len(class_counts)"
      ],
      "metadata": {
        "id": "xF77GmJT-9yQ"
      },
      "execution_count": 12,
      "outputs": []
    },
    {
      "cell_type": "code",
      "source": [
        "len(X_train)"
      ],
      "metadata": {
        "colab": {
          "base_uri": "https://localhost:8080/"
        },
        "id": "-a0Xxiui_L6N",
        "outputId": "3b1b54df-8d50-4087-8976-5c48daa46397"
      },
      "execution_count": 13,
      "outputs": [
        {
          "output_type": "execute_result",
          "data": {
            "text/plain": [
              "181"
            ]
          },
          "metadata": {},
          "execution_count": 13
        }
      ]
    },
    {
      "cell_type": "code",
      "source": [
        "class_aver"
      ],
      "metadata": {
        "colab": {
          "base_uri": "https://localhost:8080/"
        },
        "id": "Yi7UCPFY_Dof",
        "outputId": "9836a659-e631-48a9-e182-5d4f32176535"
      },
      "execution_count": 14,
      "outputs": [
        {
          "output_type": "execute_result",
          "data": {
            "text/plain": [
              "72.4"
            ]
          },
          "metadata": {},
          "execution_count": 14
        }
      ]
    },
    {
      "cell_type": "code",
      "source": [
        "# 3. 증강이 필요 없는 클래스 및 필요 클래스 분리\n",
        "non_aug_classes = {}\n",
        "aug_classes = {}\n",
        "\n",
        "for cls, count in class_counts.items():\n",
        "    if count >= class_aver:\n",
        "        non_aug_classes[cls] = count\n",
        "    else:\n",
        "        aug_classes[cls] = count"
      ],
      "metadata": {
        "id": "9f5rHolJ_U-C"
      },
      "execution_count": 15,
      "outputs": []
    },
    {
      "cell_type": "code",
      "source": [
        "print('증강 필요 없음 : ', non_aug_classes, '증강 해야될 클래스 : ', aug_classes)"
      ],
      "metadata": {
        "colab": {
          "base_uri": "https://localhost:8080/"
        },
        "id": "yxlzGcoo_WQU",
        "outputId": "cb90d624-eac3-45b3-ae9b-08def8268316"
      },
      "execution_count": 18,
      "outputs": [
        {
          "output_type": "stream",
          "name": "stdout",
          "text": [
            "증강 필요 없음 :  {1: 76} 증강 해야될 클래스 :  {4: 32, 2: 31, 3: 25, 5: 17}\n"
          ]
        }
      ]
    },
    {
      "cell_type": "code",
      "source": [
        "# 4. 남은 목표 수 및 증강 클래스 수 계산\n",
        "non_aug_sum = sum(non_aug_classes.values())\n",
        "remaining_target = target_total - non_aug_sum\n",
        "num_aug_classes = len(aug_classes)"
      ],
      "metadata": {
        "id": "BiW2Ucxy_hmu"
      },
      "execution_count": 19,
      "outputs": []
    },
    {
      "cell_type": "code",
      "source": [
        "remaining_target"
      ],
      "metadata": {
        "colab": {
          "base_uri": "https://localhost:8080/"
        },
        "id": "-vUtPkGg_kNw",
        "outputId": "000f1570-dd01-45ea-91e8-7c4da4e1ab1c"
      },
      "execution_count": 21,
      "outputs": [
        {
          "output_type": "execute_result",
          "data": {
            "text/plain": [
              "286"
            ]
          },
          "metadata": {},
          "execution_count": 21
        }
      ]
    },
    {
      "cell_type": "code",
      "source": [
        "num_aug_classes"
      ],
      "metadata": {
        "colab": {
          "base_uri": "https://localhost:8080/"
        },
        "id": "zPOIMS9P_rnn",
        "outputId": "ab9b2154-e3f1-42db-8ae7-7b9922b185f4"
      },
      "execution_count": 22,
      "outputs": [
        {
          "output_type": "execute_result",
          "data": {
            "text/plain": [
              "4"
            ]
          },
          "metadata": {},
          "execution_count": 22
        }
      ]
    },
    {
      "cell_type": "code",
      "source": [
        "# 5. 클래스별 목표 수 재산정\n",
        "class_targets = {}\n",
        "for cls, count in aug_classes.items():\n",
        "    class_targets[cls] = int(remaining_target / num_aug_classes)"
      ],
      "metadata": {
        "id": "cPcEN3Tc_twb"
      },
      "execution_count": 23,
      "outputs": []
    },
    {
      "cell_type": "code",
      "source": [
        "class_targets"
      ],
      "metadata": {
        "colab": {
          "base_uri": "https://localhost:8080/"
        },
        "id": "Cek2lY7M_vBy",
        "outputId": "a7dd18a8-7d6e-4798-f69e-173c7dc98920"
      },
      "execution_count": 24,
      "outputs": [
        {
          "output_type": "execute_result",
          "data": {
            "text/plain": [
              "{4: 71, 2: 71, 3: 71, 5: 71}"
            ]
          },
          "metadata": {},
          "execution_count": 24
        }
      ]
    },
    {
      "cell_type": "code",
      "source": [
        "# 6. 클래스별 증강 수행\n",
        "X_augmented_list = []\n",
        "y_augmented_list = []\n",
        "\n",
        "for cls, current_count in aug_classes.items():\n",
        "    target = class_targets[cls]\n",
        "    n_to_generate = target - current_count\n",
        "    if n_to_generate > 0:\n",
        "        X_class = X_train[y_train == cls]\n",
        "        X_aug = generate_dtw_synthetic_data(X_class, n_to_generate)\n",
        "        y_aug = np.full(len(X_aug), cls)\n",
        "        X_augmented_list.append(X_aug)\n",
        "        y_augmented_list.append(y_aug)"
      ],
      "metadata": {
        "id": "QIxibNpZ_zhF"
      },
      "execution_count": 27,
      "outputs": []
    },
    {
      "cell_type": "code",
      "source": [
        "print(\"==== 증강 제외 클래스 ====\")\n",
        "for cls, count in non_aug_classes.items():\n",
        "    print(f\"Class {cls}: {count}개\")\n",
        "\n",
        "print(\"\\n==== 증강 대상 클래스 및 목표 샘플 수 ====\")\n",
        "for cls in aug_classes:\n",
        "    print(f\"Class {cls}: 기존 {aug_classes[cls]}개 → 목표 {class_targets[cls]}개 → 생성 {class_targets[cls] - aug_classes[cls]}개\")\n"
      ],
      "metadata": {
        "colab": {
          "base_uri": "https://localhost:8080/"
        },
        "id": "cm4cR8PJATir",
        "outputId": "ec28d39b-b8dc-4415-bec0-2e5dd224e1bf"
      },
      "execution_count": 28,
      "outputs": [
        {
          "output_type": "stream",
          "name": "stdout",
          "text": [
            "==== 증강 제외 클래스 ====\n",
            "Class 1: 76개\n",
            "\n",
            "==== 증강 대상 클래스 및 목표 샘플 수 ====\n",
            "Class 4: 기존 32개 → 목표 71개 → 생성 39개\n",
            "Class 2: 기존 31개 → 목표 71개 → 생성 40개\n",
            "Class 3: 기존 25개 → 목표 71개 → 생성 46개\n",
            "Class 5: 기존 17개 → 목표 71개 → 생성 54개\n"
          ]
        }
      ]
    },
    {
      "cell_type": "code",
      "source": [
        "# 7. 전체 학습 데이터 구성\n",
        "if X_augmented_list:\n",
        "    X_augmented_all = np.concatenate(X_augmented_list, axis=0)\n",
        "    y_augmented_all = np.concatenate(y_augmented_list, axis=0)\n",
        "    X_synthetic = np.concatenate((X_train, X_augmented_all), axis=0)\n",
        "    y_synthetic = np.concatenate((y_train, y_augmented_all), axis=0)\n",
        "else:\n",
        "    X_synthetic = X_train\n",
        "    y_synthetic = y_train"
      ],
      "metadata": {
        "id": "uyaoEFqFBJvG"
      },
      "execution_count": 29,
      "outputs": []
    },
    {
      "cell_type": "code",
      "source": [
        "from sklearn.preprocessing import LabelEncoder\n",
        "from tensorflow.keras.utils import to_categorical\n",
        "\n",
        "# 클래스 인코딩\n",
        "le = LabelEncoder()\n",
        "y_synthetic_encoded = le.fit_transform(y_synthetic)\n",
        "y_test_encoded = le.transform(y_test)\n",
        "\n",
        "# 클래스 수 정확히 반영\n",
        "num_classes = len(np.unique(y_synthetic_encoded))\n",
        "\n",
        "# One-hot encoding (LSTM/CNN에 사용)\n",
        "y_synthetic_cat = to_categorical(y_synthetic_encoded, num_classes=num_classes)\n",
        "y_test_cat = to_categorical(y_test_encoded, num_classes=num_classes)\n"
      ],
      "metadata": {
        "id": "L_b96NYwEZR8"
      },
      "execution_count": 46,
      "outputs": []
    },
    {
      "cell_type": "code",
      "source": [
        "def predict_with_logistic_regression(X_train, y_train, X_test):\n",
        "    model = LogisticRegression()\n",
        "    model.fit(X_train, y_train)\n",
        "    return model.predict(X_test)\n",
        "\n",
        "def predict_with_cart(X_train, y_train, X_test):\n",
        "    model = DecisionTreeClassifier()\n",
        "    model.fit(X_train, y_train)\n",
        "    return model.predict(X_test)\n",
        "\n",
        "def predict_with_knn(X_train, y_train, X_test, k=3):\n",
        "    model = KNeighborsClassifier(n_neighbors=k)\n",
        "    model.fit(X_train, y_train)\n",
        "    return model.predict(X_test)\n",
        "\n",
        "def predict_with_xgboost(X_train, y_train, X_test, label_encoder=None):\n",
        "    from xgboost import XGBClassifier\n",
        "\n",
        "    model = XGBClassifier(use_label_encoder=False, eval_metric='mlogloss')\n",
        "    model.fit(X_train, y_train)\n",
        "    pred_y = model.predict(X_test)\n",
        "\n",
        "    if label_encoder is not None:\n",
        "        pred_y = label_encoder.inverse_transform(pred_y)\n",
        "\n",
        "    return pred_y\n",
        "\n",
        "def predict_with_lstm_multiclass(X_train, y_train_cat, X_test):\n",
        "    model = Sequential()\n",
        "    model.add(LSTM(50, activation='relu', input_shape=(X_train.shape[1], 1)))\n",
        "    model.add(Dense(num_classes, activation='softmax'))  # 출력층 변경\n",
        "    model.compile(optimizer='adam', loss='categorical_crossentropy', metrics=['accuracy'])\n",
        "\n",
        "    X_train_reshaped = X_train.reshape((X_train.shape[0], X_train.shape[1], 1))\n",
        "    X_test_reshaped = X_test.reshape((X_test.shape[0], X_test.shape[1], 1))\n",
        "\n",
        "    model.fit(X_train_reshaped, y_train_cat, epochs=50, batch_size=32, verbose=0)\n",
        "\n",
        "    pred_prob = model.predict(X_test_reshaped)\n",
        "    return np.argmax(pred_prob, axis=1)  # 예측 클래스 추출\n",
        "\n",
        "\n",
        "def predict_with_cnn_multiclass(X_train, y_train_cat, X_test):\n",
        "    model = Sequential()\n",
        "    model.add(Conv1D(64, kernel_size=3, activation='relu', input_shape=(X_train.shape[1], 1)))\n",
        "    model.add(Flatten())\n",
        "    model.add(Dense(num_classes, activation='softmax'))  # 출력층 변경\n",
        "    model.compile(optimizer='adam', loss='categorical_crossentropy', metrics=['accuracy'])\n",
        "\n",
        "    X_train_reshaped = X_train.reshape((X_train.shape[0], X_train.shape[1], 1))\n",
        "    X_test_reshaped = X_test.reshape((X_test.shape[0], X_test.shape[1], 1))\n",
        "\n",
        "    model.fit(X_train_reshaped, y_train_cat, epochs=50, batch_size=32, verbose=0)\n",
        "\n",
        "    pred_prob = model.predict(X_test_reshaped)\n",
        "    return np.argmax(pred_prob, axis=1)\n"
      ],
      "metadata": {
        "id": "Zp6INzJ5Ooi4"
      },
      "execution_count": 40,
      "outputs": []
    },
    {
      "cell_type": "code",
      "source": [
        "predictions = {\n",
        "    \"Logistic Regression\": predict_with_logistic_regression(X_synthetic, y_synthetic, X_test),\n",
        "    \"CART\": predict_with_cart(X_synthetic, y_synthetic, X_test),\n",
        "    \"KNN\": predict_with_knn(X_synthetic, y_synthetic, X_test),\n",
        "    \"XGBoost\": predict_with_xgboost(X_synthetic, y_synthetic_encoded, X_test, label_encoder=le),\n",
        "    \"LSTM\": predict_with_lstm_multiclass(X_synthetic, y_synthetic_cat, X_test),\n",
        "    \"CNN\": predict_with_cnn_multiclass(X_synthetic, y_synthetic_cat, X_test)\n",
        "}\n"
      ],
      "metadata": {
        "colab": {
          "base_uri": "https://localhost:8080/"
        },
        "id": "93G4R4VkJiOM",
        "outputId": "47bffcba-0a9a-497b-f550-5be49095c73c"
      },
      "execution_count": 47,
      "outputs": [
        {
          "output_type": "stream",
          "name": "stderr",
          "text": [
            "/usr/local/lib/python3.11/dist-packages/sklearn/linear_model/_logistic.py:465: ConvergenceWarning: lbfgs failed to converge (status=1):\n",
            "STOP: TOTAL NO. OF ITERATIONS REACHED LIMIT.\n",
            "\n",
            "Increase the number of iterations (max_iter) or scale the data as shown in:\n",
            "    https://scikit-learn.org/stable/modules/preprocessing.html\n",
            "Please also refer to the documentation for alternative solver options:\n",
            "    https://scikit-learn.org/stable/modules/linear_model.html#logistic-regression\n",
            "  n_iter_i = _check_optimize_result(\n",
            "/usr/local/lib/python3.11/dist-packages/xgboost/core.py:158: UserWarning: [11:09:23] WARNING: /workspace/src/learner.cc:740: \n",
            "Parameters: { \"use_label_encoder\" } are not used.\n",
            "\n",
            "  warnings.warn(smsg, UserWarning)\n",
            "/usr/local/lib/python3.11/dist-packages/keras/src/layers/rnn/rnn.py:200: UserWarning: Do not pass an `input_shape`/`input_dim` argument to a layer. When using Sequential models, prefer using an `Input(shape)` object as the first layer in the model instead.\n",
            "  super().__init__(**kwargs)\n",
            "WARNING:tensorflow:5 out of the last 7 calls to <function TensorFlowTrainer.make_predict_function.<locals>.one_step_on_data_distributed at 0x7f09d63f9300> triggered tf.function retracing. Tracing is expensive and the excessive number of tracings could be due to (1) creating @tf.function repeatedly in a loop, (2) passing tensors with different shapes, (3) passing Python objects instead of tensors. For (1), please define your @tf.function outside of the loop. For (2), @tf.function has reduce_retracing=True option that can avoid unnecessary retracing. For (3), please refer to https://www.tensorflow.org/guide/function#controlling_retracing and https://www.tensorflow.org/api_docs/python/tf/function for  more details.\n"
          ]
        },
        {
          "output_type": "stream",
          "name": "stdout",
          "text": [
            "\u001b[1m2/3\u001b[0m \u001b[32m━━━━━━━━━━━━━\u001b[0m\u001b[37m━━━━━━━\u001b[0m \u001b[1m0s\u001b[0m 314ms/step"
          ]
        },
        {
          "output_type": "stream",
          "name": "stderr",
          "text": [
            "WARNING:tensorflow:6 out of the last 9 calls to <function TensorFlowTrainer.make_predict_function.<locals>.one_step_on_data_distributed at 0x7f09d63f9300> triggered tf.function retracing. Tracing is expensive and the excessive number of tracings could be due to (1) creating @tf.function repeatedly in a loop, (2) passing tensors with different shapes, (3) passing Python objects instead of tensors. For (1), please define your @tf.function outside of the loop. For (2), @tf.function has reduce_retracing=True option that can avoid unnecessary retracing. For (3), please refer to https://www.tensorflow.org/guide/function#controlling_retracing and https://www.tensorflow.org/api_docs/python/tf/function for  more details.\n"
          ]
        },
        {
          "output_type": "stream",
          "name": "stdout",
          "text": [
            "\u001b[1m3/3\u001b[0m \u001b[32m━━━━━━━━━━━━━━━━━━━━\u001b[0m\u001b[37m\u001b[0m \u001b[1m2s\u001b[0m 607ms/step\n"
          ]
        },
        {
          "output_type": "stream",
          "name": "stderr",
          "text": [
            "/usr/local/lib/python3.11/dist-packages/keras/src/layers/convolutional/base_conv.py:107: UserWarning: Do not pass an `input_shape`/`input_dim` argument to a layer. When using Sequential models, prefer using an `Input(shape)` object as the first layer in the model instead.\n",
            "  super().__init__(activity_regularizer=activity_regularizer, **kwargs)\n"
          ]
        },
        {
          "output_type": "stream",
          "name": "stdout",
          "text": [
            "\u001b[1m3/3\u001b[0m \u001b[32m━━━━━━━━━━━━━━━━━━━━\u001b[0m\u001b[37m\u001b[0m \u001b[1m0s\u001b[0m 37ms/step\n"
          ]
        }
      ]
    },
    {
      "cell_type": "code",
      "source": [
        "# 성능 지표 저장을 위한 리스트\n",
        "results = []\n",
        "for model_name, pred_y in predictions.items():\n",
        "    accuracy = accuracy_score(y_test_encoded, pred_y)\n",
        "    recall = recall_score(y_test_encoded, pred_y, average='macro')\n",
        "    f1 = f1_score(y_test_encoded, pred_y, average='macro')\n",
        "    specificity = specificity_score(y_test_encoded, pred_y, average='macro')\n",
        "    conf_matrix = confusion_matrix(y_test_encoded, pred_y)\n",
        "    results.append([accuracy, f1, recall, specificity, conf_matrix])"
      ],
      "metadata": {
        "colab": {
          "base_uri": "https://localhost:8080/"
        },
        "id": "t3Ib47aSVs-V",
        "outputId": "ccfb94b2-293a-4397-b9e1-9afe307aa979"
      },
      "execution_count": 48,
      "outputs": [
        {
          "output_type": "stream",
          "name": "stderr",
          "text": [
            "/usr/local/lib/python3.11/dist-packages/sklearn/metrics/_classification.py:1565: UndefinedMetricWarning: Recall is ill-defined and being set to 0.0 in labels with no true samples. Use `zero_division` parameter to control this behavior.\n",
            "  _warn_prf(average, modifier, f\"{metric.capitalize()} is\", len(result))\n",
            "/usr/local/lib/python3.11/dist-packages/sklearn/metrics/_classification.py:1565: UndefinedMetricWarning: Recall is ill-defined and being set to 0.0 in labels with no true samples. Use `zero_division` parameter to control this behavior.\n",
            "  _warn_prf(average, modifier, f\"{metric.capitalize()} is\", len(result))\n",
            "/usr/local/lib/python3.11/dist-packages/sklearn/metrics/_classification.py:1565: UndefinedMetricWarning: Recall is ill-defined and being set to 0.0 in labels with no true samples. Use `zero_division` parameter to control this behavior.\n",
            "  _warn_prf(average, modifier, f\"{metric.capitalize()} is\", len(result))\n",
            "/usr/local/lib/python3.11/dist-packages/sklearn/metrics/_classification.py:1565: UndefinedMetricWarning: Recall is ill-defined and being set to 0.0 in labels with no true samples. Use `zero_division` parameter to control this behavior.\n",
            "  _warn_prf(average, modifier, f\"{metric.capitalize()} is\", len(result))\n"
          ]
        }
      ]
    },
    {
      "cell_type": "code",
      "source": [
        "from collections import Counter\n",
        "\n",
        "# 증강 전 클래스별 샘플 수\n",
        "original_class_distribution = Counter(y_train)\n",
        "print(\"증강 전 클래스별 샘플 수:\")\n",
        "for cls, count in original_class_distribution.items():\n",
        "    print(f\"클래스 {cls}: {count}개\")\n",
        "\n",
        "# 증강 후 클래스별 샘플 수\n",
        "augmented_class_distribution = Counter(y_synthetic)\n",
        "print(\"\\n증강 후 클래스별 샘플 수:\")\n",
        "for cls, count in augmented_class_distribution.items():\n",
        "    print(f\"클래스 {cls}: {count}개\")"
      ],
      "metadata": {
        "colab": {
          "base_uri": "https://localhost:8080/"
        },
        "id": "1WoU8JxvGjMd",
        "outputId": "b7ef059d-40b9-4bcf-cb2f-00e8e3e6ad7f"
      },
      "execution_count": 49,
      "outputs": [
        {
          "output_type": "stream",
          "name": "stdout",
          "text": [
            "증강 전 클래스별 샘플 수:\n",
            "클래스 1: 76개\n",
            "클래스 2: 31개\n",
            "클래스 3: 25개\n",
            "클래스 4: 32개\n",
            "클래스 5: 17개\n",
            "\n",
            "증강 후 클래스별 샘플 수:\n",
            "클래스 1: 76개\n",
            "클래스 2: 71개\n",
            "클래스 3: 71개\n",
            "클래스 4: 71개\n",
            "클래스 5: 71개\n"
          ]
        }
      ]
    },
    {
      "cell_type": "code",
      "source": [
        "# 성능 지표를 DataFrame으로 변환\n",
        "results_df = pd.DataFrame(results, columns=[\"Accuracy\", \"F1\", \"Recall\", \"Specificity\", \"Confusion Matrix\"], index=predictions.keys())\n",
        "model_results = results_df.T\n",
        "# 결과를 출력\n",
        "print(\"\\n모델 성능 비교 결과:\")\n",
        "print(model_results)\n",
        "\n",
        "# 결과를 CSV 파일로 저장\n",
        "model_results.to_csv(\"/content/drive/My Drive/PhalangesOutlinesCorrect/results/(다중)dtw_tsaug_models_worms_result.csv\")"
      ],
      "metadata": {
        "id": "8zjktHS2PbE8",
        "colab": {
          "base_uri": "https://localhost:8080/"
        },
        "outputId": "d9cb35b8-b4e6-47e0-ab31-7bf27b24e77e"
      },
      "execution_count": 50,
      "outputs": [
        {
          "output_type": "stream",
          "name": "stdout",
          "text": [
            "\n",
            "모델 성능 비교 결과:\n",
            "                                                Logistic Regression  \\\n",
            "Accuracy                                                   0.077922   \n",
            "F1                                                         0.075766   \n",
            "Recall                                                     0.080769   \n",
            "Specificity                                                0.827329   \n",
            "Confusion Matrix  [[0, 12, 1, 5, 8, 7], [0, 3, 1, 3, 3, 3], [0, ...   \n",
            "\n",
            "                                                               CART  \\\n",
            "Accuracy                                                    0.12987   \n",
            "F1                                                         0.120888   \n",
            "Recall                                                     0.148077   \n",
            "Specificity                                                0.836068   \n",
            "Confusion Matrix  [[0, 14, 5, 5, 7, 2], [0, 4, 3, 0, 2, 4], [0, ...   \n",
            "\n",
            "                                                                KNN  \\\n",
            "Accuracy                                                   0.090909   \n",
            "F1                                                         0.064655   \n",
            "Recall                                                     0.105769   \n",
            "Specificity                                                0.829674   \n",
            "Confusion Matrix  [[0, 2, 1, 12, 12, 6], [0, 0, 3, 4, 2, 4], [0,...   \n",
            "\n",
            "                                                            XGBoost  \\\n",
            "Accuracy                                                   0.155844   \n",
            "F1                                                         0.129879   \n",
            "Recall                                                     0.173718   \n",
            "Specificity                                                0.839931   \n",
            "Confusion Matrix  [[0, 17, 1, 3, 9, 3], [0, 7, 2, 1, 1, 2], [0, ...   \n",
            "\n",
            "                                                               LSTM  \\\n",
            "Accuracy                                                   0.428571   \n",
            "F1                                                             0.12   \n",
            "Recall                                                          0.2   \n",
            "Specificity                                                     0.8   \n",
            "Confusion Matrix  [[33, 0, 0, 0, 0], [13, 0, 0, 0, 0], [10, 0, 0...   \n",
            "\n",
            "                                                                CNN  \n",
            "Accuracy                                                    0.38961  \n",
            "F1                                                         0.348562  \n",
            "Recall                                                     0.383893  \n",
            "Specificity                                                 0.82938  \n",
            "Confusion Matrix  [[16, 2, 4, 6, 5], [6, 2, 2, 0, 3], [5, 0, 3, ...  \n"
          ]
        }
      ]
    }
  ]
}