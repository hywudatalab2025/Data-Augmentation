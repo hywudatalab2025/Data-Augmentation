{
  "nbformat": 4,
  "nbformat_minor": 0,
  "metadata": {
    "colab": {
      "provenance": []
    },
    "kernelspec": {
      "name": "python3",
      "display_name": "Python 3"
    },
    "language_info": {
      "name": "python"
    }
  },
  "cells": [
    {
      "cell_type": "code",
      "source": [
        "!pip install dtaidistance"
      ],
      "metadata": {
        "colab": {
          "base_uri": "https://localhost:8080/"
        },
        "id": "7bozN1v1TkB3",
        "outputId": "974fe6a3-7685-4d26-c6f9-3f161f47f836"
      },
      "execution_count": 1,
      "outputs": [
        {
          "output_type": "stream",
          "name": "stdout",
          "text": [
            "Requirement already satisfied: dtaidistance in /usr/local/lib/python3.11/dist-packages (2.3.13)\n",
            "Requirement already satisfied: numpy in /usr/local/lib/python3.11/dist-packages (from dtaidistance) (2.0.2)\n"
          ]
        }
      ]
    },
    {
      "cell_type": "code",
      "source": [
        "!pip install fastdtw"
      ],
      "metadata": {
        "colab": {
          "base_uri": "https://localhost:8080/"
        },
        "id": "31fWFMEd0iev",
        "outputId": "97a9c308-4567-4859-b56d-143fabf68282"
      },
      "execution_count": 2,
      "outputs": [
        {
          "output_type": "stream",
          "name": "stdout",
          "text": [
            "Requirement already satisfied: fastdtw in /usr/local/lib/python3.11/dist-packages (0.3.4)\n",
            "Requirement already satisfied: numpy in /usr/local/lib/python3.11/dist-packages (from fastdtw) (2.0.2)\n"
          ]
        }
      ]
    },
    {
      "cell_type": "code",
      "source": [
        "import numpy as np\n",
        "import pandas as pd\n",
        "from dtaidistance.dtw import distance as dtw_distance\n",
        "import random\n",
        "from tslearn.metrics import dtw\n",
        "from tqdm import tqdm\n",
        "from sklearn.preprocessing import MinMaxScaler\n",
        "from sklearn.linear_model import LogisticRegression\n",
        "from sklearn.tree import DecisionTreeClassifier\n",
        "from sklearn.neighbors import KNeighborsClassifier\n",
        "from xgboost import XGBClassifier\n",
        "from sklearn.metrics import accuracy_score, f1_score, recall_score, confusion_matrix\n",
        "from imblearn.metrics import specificity_score\n",
        "import seaborn as sns\n",
        "import matplotlib.pyplot as plt\n",
        "from keras.models import Sequential\n",
        "from keras.layers import LSTM, Dense, Conv1D, Flatten\n",
        "from google.colab import drive\n",
        "from sklearn.preprocessing import LabelEncoder"
      ],
      "metadata": {
        "id": "cgJyFM3aTN_M"
      },
      "execution_count": 3,
      "outputs": []
    },
    {
      "cell_type": "code",
      "source": [
        "from google.colab import drive\n",
        "\n",
        "# Google Drive 마운트\n",
        "drive.mount('/content/drive')"
      ],
      "metadata": {
        "colab": {
          "base_uri": "https://localhost:8080/"
        },
        "id": "brq7pme1TqS3",
        "outputId": "350d9e40-92c6-4c51-f6d9-aa491ed68b6f"
      },
      "execution_count": 4,
      "outputs": [
        {
          "output_type": "stream",
          "name": "stdout",
          "text": [
            "Drive already mounted at /content/drive; to attempt to forcibly remount, call drive.mount(\"/content/drive\", force_remount=True).\n"
          ]
        }
      ]
    },
    {
      "cell_type": "code",
      "source": [
        "df_X_train = pd.read_csv('/content/drive/My Drive/PhalangesOutlinesCorrect/X_train_Worms.csv')\n",
        "df_y_train = pd.read_csv('/content/drive/My Drive/PhalangesOutlinesCorrect/y_train_Worms.csv')\n",
        "df_X_test = pd.read_csv('/content/drive/MyDrive/PhalangesOutlinesCorrect/X_test_Worms.csv')\n",
        "df_y_test = pd.read_csv('/content/drive/MyDrive/PhalangesOutlinesCorrect/y_test_Worms.csv')"
      ],
      "metadata": {
        "id": "POUFUGpzTorg"
      },
      "execution_count": 5,
      "outputs": []
    },
    {
      "cell_type": "code",
      "source": [
        "X_train = df_X_train.values\n",
        "y_train = df_y_train.values.reshape(-1)  # 1차원 배열로 변환\n",
        "X_test = df_X_test.values\n",
        "y_test = df_y_test.values.reshape(-1)"
      ],
      "metadata": {
        "id": "LZ2AQTfnYuQW"
      },
      "execution_count": 6,
      "outputs": []
    },
    {
      "cell_type": "code",
      "source": [
        "# 1~5. 클래스별 증강이 필요한 개수 계산 및 목표 수 설정\n",
        "from collections import defaultdict\n",
        "\n",
        "class_counts = pd.Series(y_train).value_counts()\n",
        "total_samples = len(X_train)\n",
        "target_total = total_samples * 2\n",
        "avg_target = target_total / len(class_counts)\n",
        "\n",
        "non_aug_classes = {}\n",
        "aug_classes = {}\n",
        "for cls, count in class_counts.items():\n",
        "    if count >= avg_target:\n",
        "        non_aug_classes[cls] = count\n",
        "    else:\n",
        "        aug_classes[cls] = count\n",
        "\n",
        "remaining_target = target_total - sum(non_aug_classes.values())\n",
        "class_targets = {cls: int(remaining_target / len(aug_classes)) for cls in aug_classes}\n"
      ],
      "metadata": {
        "id": "MyJKa3P7wQxg"
      },
      "execution_count": 7,
      "outputs": []
    },
    {
      "cell_type": "code",
      "source": [
        "print(\"==== 증강 제외 클래스 ====\")\n",
        "for cls, count in non_aug_classes.items():\n",
        "    print(f\"Class {cls}: {count}개\")\n",
        "\n",
        "print(\"\\n==== 증강 대상 클래스 및 목표 샘플 수 ====\")\n",
        "for cls in aug_classes:\n",
        "    print(f\"Class {cls}: 기존 {aug_classes[cls]}개 → 목표 {class_targets[cls]}개 → 생성 {class_targets[cls] - aug_classes[cls]}개\")\n"
      ],
      "metadata": {
        "colab": {
          "base_uri": "https://localhost:8080/"
        },
        "id": "U8_ih-Yv2GNY",
        "outputId": "93530ec6-a257-476d-c431-7d9c7d8aaa2f"
      },
      "execution_count": 8,
      "outputs": [
        {
          "output_type": "stream",
          "name": "stdout",
          "text": [
            "==== 증강 제외 클래스 ====\n",
            "Class 1: 76개\n",
            "\n",
            "==== 증강 대상 클래스 및 목표 샘플 수 ====\n",
            "Class 4: 기존 32개 → 목표 71개 → 생성 39개\n",
            "Class 2: 기존 31개 → 목표 71개 → 생성 40개\n",
            "Class 3: 기존 25개 → 목표 71개 → 생성 46개\n",
            "Class 5: 기존 17개 → 목표 71개 → 생성 54개\n"
          ]
        }
      ]
    },
    {
      "cell_type": "code",
      "source": [
        "class_targets"
      ],
      "metadata": {
        "colab": {
          "base_uri": "https://localhost:8080/"
        },
        "id": "uArbD72FwRxB",
        "outputId": "8794d013-d649-41ba-97fa-7848d9026c48"
      },
      "execution_count": 9,
      "outputs": [
        {
          "output_type": "execute_result",
          "data": {
            "text/plain": [
              "{4: 71, 2: 71, 3: 71, 5: 71}"
            ]
          },
          "metadata": {},
          "execution_count": 9
        }
      ]
    },
    {
      "cell_type": "code",
      "source": [
        "# 3. 모든 클래스 샘플들끼리의 dtw 거리 계산\n",
        "\n",
        "def compute_dtw_matrix_fast(X_train):\n",
        "    n_samples = len(X_train)\n",
        "    dtw_matrix = np.zeros((n_samples, n_samples))\n",
        "\n",
        "    for i in tqdm(range(n_samples), desc=\"Computing DTW matrix\"):\n",
        "        for j in range(i + 1, n_samples):\n",
        "            dist = dtw(X_train[i], X_train[j])\n",
        "            dtw_matrix[i, j] = dist\n",
        "            dtw_matrix[j, i] = dist\n",
        "    return dtw_matrix"
      ],
      "metadata": {
        "id": "bTuqc-km3oCy"
      },
      "execution_count": 10,
      "outputs": []
    },
    {
      "cell_type": "code",
      "source": [
        "# 2. dtw 기반 이웃 탐색(k=3으로 가정): dtw 거리가 가까운 이웃 3개의 샘플 찾기\n",
        "def find_dtw_neighbors(dtw_matrix, k=3):\n",
        "    n_samples = dtw_matrix.shape[0]\n",
        "    neighbors_dict = {}\n",
        "\n",
        "    for i in range(n_samples):\n",
        "        # 자기 자신 제외하고 정렬 (argsort는 오름차순)\n",
        "        neighbors = np.argsort(dtw_matrix[i])\n",
        "        nearest_neighbors = [idx for idx in neighbors if idx != i][:k]\n",
        "        neighbors_dict[i] = nearest_neighbors\n",
        "\n",
        "    return neighbors_dict"
      ],
      "metadata": {
        "id": "ytwan07B4JpH"
      },
      "execution_count": 11,
      "outputs": []
    },
    {
      "cell_type": "code",
      "source": [
        "# 이웃 중 2개 이상이 다른 클래스라면 → 안전샘플 (True)\n",
        "# 그렇지 않으면 → 안전하지 않음 (False)\n",
        "def is_safe_sample(sample_idx, neighbors_dict, y_train):\n",
        "    own_class = y_train[sample_idx]\n",
        "    neighbor_classes = [y_train[neighbor] for neighbor in neighbors_dict[sample_idx]]\n",
        "    num_different = sum([1 for cls in neighbor_classes if cls != own_class])\n",
        "    return num_different >= 2\n",
        "\n",
        "# 클래스별 안전샘플 목록 구축\n",
        "def get_safe_samples_by_class(neighbors_dict, y_train):\n",
        "    safe_samples = defaultdict(list)\n",
        "    for idx in range(len(y_train)):\n",
        "        if is_safe_sample(idx, neighbors_dict, y_train):\n",
        "            cls = y_train[idx]\n",
        "            safe_samples[cls].append(idx)\n",
        "    return dict(safe_samples)"
      ],
      "metadata": {
        "id": "snH-QR-_4lkw"
      },
      "execution_count": 12,
      "outputs": []
    },
    {
      "cell_type": "code",
      "source": [
        "# 5) 선형 보간 함수 (기존과 동일)\n",
        "def interpolate_timeseries(x1, x2, alpha=0.5):\n",
        "    return (1 - alpha) * x1 + alpha * x2\n",
        "\n",
        "def generate_augmented_sample(X_train, idx1, idx2, alpha=0.5):\n",
        "    x1 = X_train[idx1]\n",
        "    x2 = X_train[idx2]\n",
        "    return interpolate_timeseries(x1, x2, alpha)"
      ],
      "metadata": {
        "id": "KEHNAwZM6lvL"
      },
      "execution_count": 13,
      "outputs": []
    },
    {
      "cell_type": "code",
      "source": [
        "# 6) 안전샘플들 사이에서 증강 수행 함수 (변경된 버전)\n",
        "def dtw_tsmote_augmentation_v2(X_train, y_train, class_targets, alpha=0.5, random_seed=42):\n",
        "    np.random.seed(random_seed)\n",
        "    random.seed(random_seed)\n",
        "\n",
        "    print(\"DTW 거리 행렬 계산 중...\")\n",
        "    dtw_matrix = compute_dtw_matrix_fast(X_train)\n",
        "\n",
        "    print(\"DTW 이웃 탐색 중...\")\n",
        "    neighbors_dict = find_dtw_neighbors(dtw_matrix, k=3)\n",
        "\n",
        "    print(\"안전샘플 판별 및 클래스별 구축 중...\")\n",
        "    safe_samples_by_class = get_safe_samples_by_class(neighbors_dict, y_train)\n",
        "\n",
        "    X_aug_list = []\n",
        "    y_aug_list = []\n",
        "\n",
        "    unique_classes = np.unique(y_train)\n",
        "    for cls in unique_classes:\n",
        "        current_count = sum(y_train == cls)\n",
        "        target_count = class_targets.get(cls, current_count)\n",
        "        n_to_generate = target_count - current_count\n",
        "        if n_to_generate <= 0:\n",
        "            print(f\"Class {cls}: 증강 불필요 (기존 {current_count}개, 목표 {target_count}개)\")\n",
        "            continue\n",
        "\n",
        "        safe_samples = safe_samples_by_class.get(cls, [])\n",
        "        n_safe = len(safe_samples)\n",
        "        print(f\"Class {cls}: 증강 {n_to_generate}개 생성 (안전샘플 수: {n_safe})\")\n",
        "\n",
        "        if n_safe < 2:\n",
        "            print(f\"  주의: 안전샘플 2개 미만으로 증강 불가\")\n",
        "            continue\n",
        "\n",
        "        for _ in range(n_to_generate):\n",
        "            # 안전샘플 중 2개 랜덤 선택 (중복 가능)\n",
        "            idx1, idx2 = random.sample(safe_samples, 2)\n",
        "            augmented_ts = generate_augmented_sample(X_train, idx1, idx2, alpha=alpha)\n",
        "            X_aug_list.append(augmented_ts)\n",
        "            y_aug_list.append(cls)\n",
        "\n",
        "    X_augmented = np.vstack([X_train] + X_aug_list)\n",
        "    y_augmented = np.hstack([y_train] + y_aug_list)\n",
        "\n",
        "    print(f\"증강 완료: 원본 {len(X_train)} → 증강 후 {len(X_augmented)}\")\n",
        "    return X_augmented, y_augmented"
      ],
      "metadata": {
        "id": "yLKCppoI7fE5"
      },
      "execution_count": 14,
      "outputs": []
    },
    {
      "cell_type": "code",
      "source": [
        "# X_train, y_train은 numpy ndarray 또는 비슷한 형태여야 함\n",
        "X_train = np.array(X_train)  # (n_samples, seq_len)\n",
        "y_train = np.array(y_train)  # (n_samples, )\n",
        "\n",
        "# 증강 실행\n",
        "X_synthetic, y_synthetic = dtw_tsmote_augmentation_v2(X_train, y_train, class_targets, alpha=0.5)\n"
      ],
      "metadata": {
        "colab": {
          "base_uri": "https://localhost:8080/"
        },
        "id": "Ku1vLYQk79jV",
        "outputId": "6a99be6e-f5c1-48bd-8676-f45097f1ea0b"
      },
      "execution_count": 15,
      "outputs": [
        {
          "output_type": "stream",
          "name": "stdout",
          "text": [
            "DTW 거리 행렬 계산 중...\n"
          ]
        },
        {
          "output_type": "stream",
          "name": "stderr",
          "text": [
            "Computing DTW matrix: 100%|██████████| 181/181 [02:18<00:00,  1.31it/s]"
          ]
        },
        {
          "output_type": "stream",
          "name": "stdout",
          "text": [
            "DTW 이웃 탐색 중...\n",
            "안전샘플 판별 및 클래스별 구축 중...\n",
            "Class 1: 증강 불필요 (기존 76개, 목표 76개)\n",
            "Class 2: 증강 40개 생성 (안전샘플 수: 23)\n",
            "Class 3: 증강 46개 생성 (안전샘플 수: 11)\n",
            "Class 4: 증강 39개 생성 (안전샘플 수: 18)\n",
            "Class 5: 증강 54개 생성 (안전샘플 수: 13)\n",
            "증강 완료: 원본 181 → 증강 후 360\n"
          ]
        },
        {
          "output_type": "stream",
          "name": "stderr",
          "text": [
            "\n"
          ]
        }
      ]
    },
    {
      "cell_type": "markdown",
      "source": [],
      "metadata": {
        "id": "ZCeLaKAF5-43"
      }
    },
    {
      "cell_type": "code",
      "source": [
        "from tensorflow.keras.utils import to_categorical\n",
        "from sklearn.preprocessing import LabelEncoder\n",
        "\n",
        "# Label 인코딩\n",
        "le = LabelEncoder()\n",
        "y_synthetic_encoded = le.fit_transform(y_synthetic)\n",
        "y_test_encoded = le.transform(y_test)\n",
        "num_classes = len(np.unique(y_synthetic_encoded))\n",
        "\n",
        "# One-hot encoding\n",
        "y_synthetic_cat = to_categorical(y_synthetic_encoded, num_classes=num_classes)\n",
        "y_test_cat = to_categorical(y_test_encoded, num_classes=num_classes)\n"
      ],
      "metadata": {
        "id": "7Hbsa40PruI2"
      },
      "execution_count": 16,
      "outputs": []
    },
    {
      "cell_type": "code",
      "source": [
        "def predict_with_logistic_regression(X_train, y_train, X_test):\n",
        "    model = LogisticRegression()\n",
        "    model.fit(X_train, y_train)\n",
        "    return model.predict(X_test)\n",
        "\n",
        "def predict_with_cart(X_train, y_train, X_test):\n",
        "    model = DecisionTreeClassifier()\n",
        "    model.fit(X_train, y_train)\n",
        "    return model.predict(X_test)\n",
        "\n",
        "def predict_with_knn(X_train, y_train, X_test, k=3):\n",
        "    model = KNeighborsClassifier(n_neighbors=k)\n",
        "    model.fit(X_train, y_train)\n",
        "    return model.predict(X_test)\n",
        "\n",
        "def predict_with_xgboost(X_train, y_train, X_test, label_encoder=None):\n",
        "    from xgboost import XGBClassifier\n",
        "\n",
        "    model = XGBClassifier(use_label_encoder=False, eval_metric='mlogloss')\n",
        "    model.fit(X_train, y_train)\n",
        "    pred_y = model.predict(X_test)\n",
        "\n",
        "    if label_encoder is not None:\n",
        "        pred_y = label_encoder.inverse_transform(pred_y)\n",
        "\n",
        "    return pred_y\n",
        "\n",
        "def predict_with_lstm(X_train, y_train, X_test, num_classes):\n",
        "    model = Sequential()\n",
        "    model.add(LSTM(50, activation='relu', input_shape=(X_train.shape[1], 1)))\n",
        "    model.add(Dense(num_classes, activation='softmax'))\n",
        "    model.compile(optimizer='adam', loss='categorical_crossentropy', metrics=['accuracy'])\n",
        "\n",
        "    X_train_reshaped = X_train.reshape((X_train.shape[0], X_train.shape[1], 1))\n",
        "    X_test_reshaped = X_test.reshape((X_test.shape[0], X_test.shape[1], 1))\n",
        "\n",
        "    model.fit(X_train_reshaped, y_train, epochs=50, batch_size=32, verbose=0)\n",
        "    pred_prob = model.predict(X_test_reshaped)\n",
        "    return np.argmax(pred_prob, axis=1)\n",
        "\n",
        "\n",
        "def predict_with_cnn(X_train, y_train, X_test, num_classes):\n",
        "    model = Sequential()\n",
        "    model.add(Conv1D(64, kernel_size=3, activation='relu', input_shape=(X_train.shape[1], 1)))\n",
        "    model.add(Flatten())\n",
        "    model.add(Dense(num_classes, activation='softmax'))\n",
        "    model.compile(optimizer='adam', loss='categorical_crossentropy', metrics=['accuracy'])\n",
        "\n",
        "    X_train_reshaped = X_train.reshape((X_train.shape[0], X_train.shape[1], 1))\n",
        "    X_test_reshaped = X_test.reshape((X_test.shape[0], X_test.shape[1], 1))\n",
        "\n",
        "    model.fit(X_train_reshaped, y_train, epochs=50, batch_size=32, verbose=0)\n",
        "    pred_prob = model.predict(X_test_reshaped)\n",
        "    return np.argmax(pred_prob, axis=1)\n"
      ],
      "metadata": {
        "id": "E2gfn4HgrvLT"
      },
      "execution_count": 17,
      "outputs": []
    },
    {
      "cell_type": "code",
      "source": [
        "predictions = {\n",
        "    \"Logistic Regression\": predict_with_logistic_regression(X_synthetic, y_synthetic_encoded, X_test),\n",
        "    \"CART\": predict_with_cart(X_synthetic, y_synthetic_encoded, X_test),\n",
        "    \"KNN\": predict_with_knn(X_synthetic, y_synthetic_encoded, X_test),\n",
        "    \"XGBoost\": predict_with_xgboost(X_synthetic, y_synthetic_encoded, X_test),\n",
        "    \"LSTM\": predict_with_lstm(X_synthetic, y_synthetic_cat, X_test, num_classes),\n",
        "    \"CNN\": predict_with_cnn(X_synthetic, y_synthetic_cat, X_test, num_classes)\n",
        "}\n",
        "\n",
        "\n",
        "# 성능 지표 저장을 위한 리스트\n",
        "results = []\n",
        "for model_name, pred_y in predictions.items():\n",
        "    accuracy = accuracy_score(y_test_encoded, pred_y)\n",
        "    recall = recall_score(y_test_encoded, pred_y, average='macro')\n",
        "    f1 = f1_score(y_test_encoded, pred_y, average='macro')\n",
        "    specificity = specificity_score(y_test_encoded, pred_y, average='macro')\n",
        "    conf_matrix = confusion_matrix(y_test_encoded, pred_y)\n",
        "    results.append([accuracy, f1, recall, specificity, conf_matrix])"
      ],
      "metadata": {
        "id": "DnRc-5X_rwaQ",
        "colab": {
          "base_uri": "https://localhost:8080/"
        },
        "outputId": "aeb252f0-e221-4449-d389-694e9a3084e9"
      },
      "execution_count": 18,
      "outputs": [
        {
          "output_type": "stream",
          "name": "stderr",
          "text": [
            "/usr/local/lib/python3.11/dist-packages/sklearn/linear_model/_logistic.py:465: ConvergenceWarning: lbfgs failed to converge (status=1):\n",
            "STOP: TOTAL NO. OF ITERATIONS REACHED LIMIT.\n",
            "\n",
            "Increase the number of iterations (max_iter) or scale the data as shown in:\n",
            "    https://scikit-learn.org/stable/modules/preprocessing.html\n",
            "Please also refer to the documentation for alternative solver options:\n",
            "    https://scikit-learn.org/stable/modules/linear_model.html#logistic-regression\n",
            "  n_iter_i = _check_optimize_result(\n",
            "/usr/local/lib/python3.11/dist-packages/xgboost/core.py:158: UserWarning: [05:41:50] WARNING: /workspace/src/learner.cc:740: \n",
            "Parameters: { \"use_label_encoder\" } are not used.\n",
            "\n",
            "  warnings.warn(smsg, UserWarning)\n",
            "/usr/local/lib/python3.11/dist-packages/keras/src/layers/rnn/rnn.py:200: UserWarning: Do not pass an `input_shape`/`input_dim` argument to a layer. When using Sequential models, prefer using an `Input(shape)` object as the first layer in the model instead.\n",
            "  super().__init__(**kwargs)\n"
          ]
        },
        {
          "output_type": "stream",
          "name": "stdout",
          "text": [
            "\u001b[1m3/3\u001b[0m \u001b[32m━━━━━━━━━━━━━━━━━━━━\u001b[0m\u001b[37m\u001b[0m \u001b[1m1s\u001b[0m 180ms/step\n"
          ]
        },
        {
          "output_type": "stream",
          "name": "stderr",
          "text": [
            "/usr/local/lib/python3.11/dist-packages/keras/src/layers/convolutional/base_conv.py:107: UserWarning: Do not pass an `input_shape`/`input_dim` argument to a layer. When using Sequential models, prefer using an `Input(shape)` object as the first layer in the model instead.\n",
            "  super().__init__(activity_regularizer=activity_regularizer, **kwargs)\n"
          ]
        },
        {
          "output_type": "stream",
          "name": "stdout",
          "text": [
            "\u001b[1m3/3\u001b[0m \u001b[32m━━━━━━━━━━━━━━━━━━━━\u001b[0m\u001b[37m\u001b[0m \u001b[1m0s\u001b[0m 34ms/step\n"
          ]
        }
      ]
    },
    {
      "cell_type": "code",
      "source": [
        "from collections import Counter\n",
        "\n",
        "# 증강 전 클래스별 샘플 수\n",
        "original_class_distribution = Counter(y_train)\n",
        "print(\"증강 전 클래스별 샘플 수:\")\n",
        "for cls, count in original_class_distribution.items():\n",
        "    print(f\"클래스 {cls}: {count}개\")\n",
        "\n",
        "# 증강 후 클래스별 샘플 수\n",
        "augmented_class_distribution = Counter(y_synthetic)\n",
        "print(\"\\n증강 후 클래스별 샘플 수:\")\n",
        "for cls, count in augmented_class_distribution.items():\n",
        "    print(f\"클래스 {cls}: {count}개\")"
      ],
      "metadata": {
        "id": "nuBVR2gBryQd",
        "colab": {
          "base_uri": "https://localhost:8080/"
        },
        "outputId": "8a856a66-fdfa-4946-daa3-28e0b07dd9f4"
      },
      "execution_count": 19,
      "outputs": [
        {
          "output_type": "stream",
          "name": "stdout",
          "text": [
            "증강 전 클래스별 샘플 수:\n",
            "클래스 1: 76개\n",
            "클래스 2: 31개\n",
            "클래스 3: 25개\n",
            "클래스 4: 32개\n",
            "클래스 5: 17개\n",
            "\n",
            "증강 후 클래스별 샘플 수:\n",
            "클래스 1: 76개\n",
            "클래스 2: 71개\n",
            "클래스 3: 71개\n",
            "클래스 4: 71개\n",
            "클래스 5: 71개\n"
          ]
        }
      ]
    },
    {
      "cell_type": "code",
      "source": [
        "# 성능 지표를 DataFrame으로 변환\n",
        "results_df = pd.DataFrame(results, columns=[\"Accuracy\", \"F1\", \"Recall\", \"Specificity\", \"Confusion Matrix\"], index=predictions.keys())\n",
        "model_results = results_df.T\n",
        "# 결과를 출력\n",
        "print(\"\\n모델 성능 비교 결과:\")\n",
        "print(model_results)\n",
        "\n",
        "# 결과를 CSV 파일로 저장\n",
        "model_results.to_csv(\"/content/drive/My Drive/PhalangesOutlinesCorrect/results/(다중)bsmote_soso_models_worms_result.csv\")"
      ],
      "metadata": {
        "id": "aJJuyLjor0Ah",
        "colab": {
          "base_uri": "https://localhost:8080/"
        },
        "outputId": "4a501b0f-4b24-4ced-e18d-96ff211cb468"
      },
      "execution_count": 20,
      "outputs": [
        {
          "output_type": "stream",
          "name": "stdout",
          "text": [
            "\n",
            "모델 성능 비교 결과:\n",
            "                                                Logistic Regression  \\\n",
            "Accuracy                                                   0.363636   \n",
            "F1                                                         0.319952   \n",
            "Recall                                                     0.371772   \n",
            "Specificity                                                 0.83372   \n",
            "Confusion Matrix  [[14, 2, 4, 8, 5], [3, 1, 3, 4, 2], [4, 0, 3, ...   \n",
            "\n",
            "                                                               CART  \\\n",
            "Accuracy                                                   0.350649   \n",
            "F1                                                         0.357319   \n",
            "Recall                                                     0.402716   \n",
            "Specificity                                                0.829982   \n",
            "Confusion Matrix  [[8, 9, 2, 5, 9], [1, 7, 1, 2, 2], [2, 4, 3, 1...   \n",
            "\n",
            "                                                                KNN  \\\n",
            "Accuracy                                                   0.207792   \n",
            "F1                                                         0.223512   \n",
            "Recall                                                     0.293753   \n",
            "Specificity                                                0.809407   \n",
            "Confusion Matrix  [[1, 3, 9, 10, 10], [0, 3, 2, 2, 6], [1, 0, 4,...   \n",
            "\n",
            "                                                            XGBoost  \\\n",
            "Accuracy                                                   0.454545   \n",
            "F1                                                         0.424765   \n",
            "Recall                                                     0.441783   \n",
            "Specificity                                                0.849468   \n",
            "Confusion Matrix  [[18, 1, 6, 7, 1], [7, 2, 0, 3, 1], [2, 1, 5, ...   \n",
            "\n",
            "                                                               LSTM  \\\n",
            "Accuracy                                                   0.428571   \n",
            "F1                                                             0.12   \n",
            "Recall                                                          0.2   \n",
            "Specificity                                                     0.8   \n",
            "Confusion Matrix  [[33, 0, 0, 0, 0], [13, 0, 0, 0, 0], [10, 0, 0...   \n",
            "\n",
            "                                                                CNN  \n",
            "Accuracy                                                   0.363636  \n",
            "F1                                                         0.333831  \n",
            "Recall                                                      0.37148  \n",
            "Specificity                                                0.832332  \n",
            "Confusion Matrix  [[13, 1, 3, 9, 7], [5, 2, 2, 1, 3], [3, 1, 3, ...  \n"
          ]
        }
      ]
    }
  ]
}